{
 "cells": [
  {
   "cell_type": "code",
   "execution_count": 1,
   "id": "2a6ad808",
   "metadata": {},
   "outputs": [],
   "source": [
    "import regex as re\n",
    "import pandas as pd\n",
    "import numpy as np"
   ]
  },
  {
   "cell_type": "code",
   "execution_count": 2,
   "id": "8483ec5a",
   "metadata": {
    "scrolled": true
   },
   "outputs": [
    {
     "name": "stdout",
     "output_type": "stream",
     "text": [
      "sub method output: Python:Exercises:PHP:exercises:\n",
      "subn method output: ('Python:Exercises:PHP:exercises:', 4)\n"
     ]
    }
   ],
   "source": [
    "# Question 1.\n",
    "string='Python Exercises,PHP exercises.'\n",
    "pattern='\\s|\\W'\n",
    "output=re.sub(pattern,':',string)\n",
    "output1=re.subn(pattern,':',string)\n",
    "print('sub method output:',output)\n",
    "print('subn method output:',output1)\n"
   ]
  },
  {
   "cell_type": "code",
   "execution_count": 3,
   "id": "804b6d3c",
   "metadata": {
    "scrolled": true
   },
   "outputs": [
    {
     "name": "stdout",
     "output_type": "stream",
     "text": [
      "output: ['exercises']\n"
     ]
    }
   ],
   "source": [
    "# Question 2.\n",
    "string='Python Exercises,PHP exercises.'\n",
    "pattern=r'\\be[a-z]+\\b|\\ba[a-z]+\\b'\n",
    "output=re.findall(pattern,string)\n",
    "print('output:',output)"
   ]
  },
  {
   "cell_type": "code",
   "execution_count": 4,
   "id": "b5112bc3",
   "metadata": {},
   "outputs": [
    {
     "name": "stdout",
     "output_type": "stream",
     "text": [
      "output: ['Python', 'Exercises', 'exercises']\n"
     ]
    }
   ],
   "source": [
    "#Question 3.\n",
    "#string='i am reeta, my eye ear & nose are beautiful.'\n",
    "pattern=r'\\b\\w{4,}\\b'\n",
    "comp=re.compile(pattern)\n",
    "output=comp.findall(string)\n",
    "print('output:',output)"
   ]
  },
  {
   "cell_type": "code",
   "execution_count": 6,
   "id": "4268ce50",
   "metadata": {},
   "outputs": [
    {
     "name": "stdout",
     "output_type": "stream",
     "text": [
      "output ['PHP']\n"
     ]
    }
   ],
   "source": [
    "#Question 3.\n",
    "#string='i am reeta, my eye eare & nose are beautiful.'\n",
    "pattern=r'\\b\\w{3,5}\\b'\n",
    "comp=re.compile(pattern)\n",
    "output=comp.findall(string)\n",
    "print('output',output)"
   ]
  },
  {
   "cell_type": "code",
   "execution_count": 7,
   "id": "0ed86960",
   "metadata": {},
   "outputs": [
    {
     "name": "stdout",
     "output_type": "stream",
     "text": [
      "output: example.com\n",
      "output: hr@fliprobo.com\n",
      "output: github.com\n",
      "output: Hello Data Science World\n",
      "output: Data Scientist\n"
     ]
    }
   ],
   "source": [
    "#Question 5.\n",
    "string=['example(.com)','hr@fliprobo(.com)','github(.com)','Hello (Data Science World)','Data (Scientist)']\n",
    "pattern=r'[()]'\n",
    "comp=re.compile(pattern)\n",
    "for i in string:\n",
    "    output=re.sub(comp,'',i)\n",
    "    print('output:',output)"
   ]
  },
  {
   "cell_type": "code",
   "execution_count": 8,
   "id": "c9e5477c",
   "metadata": {},
   "outputs": [
    {
     "name": "stdout",
     "output_type": "stream",
     "text": [
      "example\n",
      "hr@fliprobo\n",
      "github\n",
      "Hello \n",
      "Data \n"
     ]
    }
   ],
   "source": [
    "#Question 6.[directly from string]\n",
    "string=['example(.com)','hr@fliprobo(.com)','github(.com)','Hello (Data Science World)','Data (Scientist)']\n",
    "pattern=r'\\(.*\\)'\n",
    "comp=re.compile(pattern)\n",
    "for i in string:\n",
    "    output=re.sub(comp,'',i)\n",
    "    print(output)"
   ]
  },
  {
   "cell_type": "code",
   "execution_count": 9,
   "id": "918442ba",
   "metadata": {},
   "outputs": [
    {
     "name": "stdout",
     "output_type": "stream",
     "text": [
      "['example(.com)','hr@fliprobo(.com)','github(.com)','Hello(Data Science World)','Data(Scientist)']\n",
      "\n",
      "output ['example','hr@fliprobo','github','Hello','Data']\n",
      "\n"
     ]
    }
   ],
   "source": [
    "#Question 6.[string from stored text file]\n",
    "file=open('question6.txt')\n",
    "for string in file:\n",
    "    text=re.findall('^\\w+.*',string)\n",
    "    print(string)\n",
    "pattern=r'\\(.+?\\)'\n",
    "comp=re.compile(pattern)\n",
    "output=re.sub(pattern,'',string)\n",
    "print('output',output)"
   ]
  },
  {
   "cell_type": "code",
   "execution_count": 10,
   "id": "72c649c1",
   "metadata": {},
   "outputs": [
    {
     "name": "stdout",
     "output_type": "stream",
     "text": [
      "output: ['Importance', 'Of', 'Regular', 'Expressions', 'In', 'Python']\n"
     ]
    }
   ],
   "source": [
    "#Question 7\n",
    "string='ImportanceOfRegularExpressionsInPython'\n",
    "pattern='[A-Z][^A-Z]*'\n",
    "output=re.findall(pattern,string)\n",
    "print('output:',output)"
   ]
  },
  {
   "cell_type": "code",
   "execution_count": 11,
   "id": "73ffc840",
   "metadata": {},
   "outputs": [
    {
     "name": "stdout",
     "output_type": "stream",
     "text": [
      "output: ['RegularExpression', '1IsAn', '2ImportantTopic', '3InPython']\n"
     ]
    }
   ],
   "source": [
    "#Question 8 \n",
    "string='RegularExpression1IsAn2ImportantTopic3InPython'\n",
    "pattern='[A-z]+|\\d[A-z]+'\n",
    "output=re.findall(pattern,string)\n",
    "print('output:',output)"
   ]
  },
  {
   "cell_type": "code",
   "execution_count": 12,
   "id": "2646d437",
   "metadata": {},
   "outputs": [
    {
     "name": "stdout",
     "output_type": "stream",
     "text": [
      "output: ['RegularExpression', '1', 'IsAn', '2', 'ImportantTopic', '3', 'InPython']\n"
     ]
    }
   ],
   "source": [
    "#Question 9\n",
    "string='RegularExpression1IsAn2ImportantTopic3InPython'\n",
    "pattern='[A-z]+|\\d+'\n",
    "output=re.findall(pattern,string)\n",
    "print('output:',output)"
   ]
  },
  {
   "cell_type": "code",
   "execution_count": 13,
   "id": "d59be12a",
   "metadata": {},
   "outputs": [
    {
     "name": "stdout",
     "output_type": "stream",
     "text": [
      "Hello my name is Data Science and my email address is xyz@domain.com and alternate email address is xyx.abc@sdomain.domain.com. Please contact us at hr@fliprobo.com for further information.\n",
      "output: ['xyz@domain.com', 'xyx.abc@sdomain.domain.com.', 'hr@fliprobo.com']\n"
     ]
    }
   ],
   "source": [
    "#Question 10\n",
    "file=open('question10.txt')\n",
    "for string in file:\n",
    "    print(string)\n",
    "pattern='\\S+@\\S+'\n",
    "output=re.findall(pattern,string)\n",
    "print('output:',output)"
   ]
  },
  {
   "cell_type": "code",
   "execution_count": 17,
   "id": "371bfcb0",
   "metadata": {},
   "outputs": [
    {
     "name": "stdout",
     "output_type": "stream",
     "text": [
      "output: <regex.Match object; span=(0, 10), match='abc123ABC_'>\n"
     ]
    }
   ],
   "source": [
    "#Question 11\n",
    "string='abc123ABC_'\n",
    "pattern=r'^[A-Za-z0-9_]+$'\n",
    "output=re.match(pattern,string)\n",
    "print('output:',output)"
   ]
  },
  {
   "cell_type": "code",
   "execution_count": null,
   "id": "f87a2d89",
   "metadata": {},
   "outputs": [],
   "source": [
    "import pandas as pd"
   ]
  },
  {
   "cell_type": "code",
   "execution_count": 18,
   "id": "ccc6036b",
   "metadata": {},
   "outputs": [
    {
     "name": "stdout",
     "output_type": "stream",
     "text": [
      "output: []\n",
      "output: ['2-4587']\n",
      "output: []\n",
      "output: ['2-3214']\n",
      "output: ['2-6321']\n"
     ]
    }
   ],
   "source": [
    "#Question 12\n",
    "string=['1-5632','2-4587','3-7896','2-3214','2-6321']\n",
    "pattern='^2[-\\d]+'\n",
    "for nums in string:\n",
    "    output=re.findall(pattern,nums)\n",
    "    print('output:',output)\n",
    "    "
   ]
  },
  {
   "cell_type": "code",
   "execution_count": 19,
   "id": "bdcf8754",
   "metadata": {},
   "outputs": [
    {
     "name": "stdout",
     "output_type": "stream",
     "text": [
      "output: 128.9.86.123\n"
     ]
    }
   ],
   "source": [
    "#Question 13\n",
    "string='128.09.086.123'\n",
    "pattern='\\.[0]?'\n",
    "output=re.sub(pattern,'.',string)\n",
    "print('output:',output)"
   ]
  },
  {
   "cell_type": "code",
   "execution_count": 20,
   "id": "012de028",
   "metadata": {},
   "outputs": [
    {
     "name": "stdout",
     "output_type": "stream",
     "text": [
      "'On August 15 1947 that India was May 16 2023 declared independent from British colonialism,and the reins of control were handed over to the leaders of the Country.August 24 2023.'\n",
      "output: ['August 15 1947', 'May 16 2023', 'August 24 2023']\n"
     ]
    }
   ],
   "source": [
    "#Question 14\n",
    "file=open('question14.txt')\n",
    "for string in file:\n",
    "    print(string)\n",
    "pattern='[A-z]*\\s[0-9]{2}\\s[0-9]{4}'\n",
    "output=re.findall(pattern,string)\n",
    "print('output:',output)\n"
   ]
  },
  {
   "cell_type": "code",
   "execution_count": 23,
   "id": "43dc316b",
   "metadata": {},
   "outputs": [
    {
     "name": "stdout",
     "output_type": "stream",
     "text": [
      "output: ['fox', 'dog']\n"
     ]
    }
   ],
   "source": [
    "#Question 15\n",
    "string='The quick brown fox jumps over the lazy dog.'\n",
    "pattern=r'\\b[A-z?][o?][a-z]*'\n",
    "output=re.findall(pattern,string)\n",
    "print('output:',output)"
   ]
  },
  {
   "cell_type": "code",
   "execution_count": 24,
   "id": "d5181c8d",
   "metadata": {},
   "outputs": [
    {
     "name": "stdout",
     "output_type": "stream",
     "text": [
      "output:  fox\n",
      "Start Location: 15\n",
      "End Location: 19\n",
      "span: (15, 19)\n"
     ]
    }
   ],
   "source": [
    "#Question 16\n",
    "string='the quick brown fox jumps over the lazy dog.'\n",
    "pattern='\\s[A-z?][o?][a-z]*'\n",
    "output=re.search(pattern,string)\n",
    "print('output:',output.group())\n",
    "print('Start Location:',output.start())\n",
    "print('End Location:',output.end())\n",
    "print('span:',output.span())"
   ]
  },
  {
   "cell_type": "code",
   "execution_count": 25,
   "id": "3351348d",
   "metadata": {},
   "outputs": [
    {
     "name": "stdout",
     "output_type": "stream",
     "text": [
      "1 exercises\n",
      "2 exercises\n",
      "3 exercises\n"
     ]
    }
   ],
   "source": [
    "#Question 17\n",
    "string='Python exercises,PHP exercises,C# exercises'\n",
    "pattern='(exercises)'\n",
    "comp=re.compile(pattern)\n",
    "output=comp.finditer(string)\n",
    "n=1\n",
    "for match in output:\n",
    "    print(n,match.group())\n",
    "    n=n+1"
   ]
  },
  {
   "cell_type": "code",
   "execution_count": 26,
   "id": "2bdad722",
   "metadata": {},
   "outputs": [
    {
     "name": "stdout",
     "output_type": "stream",
     "text": [
      "1 exercises , Position = (7, 16)\n",
      "2 exercises , Position = (21, 30)\n",
      "3 exercises , Position = (34, 43)\n"
     ]
    }
   ],
   "source": [
    "#Question 18\n",
    "string='Python exercises,PHP exercises,C# exercises'\n",
    "pattern='(exercises)'\n",
    "comp=re.compile(pattern)\n",
    "output=comp.finditer(string)\n",
    "n=1\n",
    "for match in output:\n",
    "    print(n, (match.group()), ', Position =' ,(match.span()))\n",
    "    n=n+1\n"
   ]
  },
  {
   "cell_type": "code",
   "execution_count": 27,
   "id": "0dea8524",
   "metadata": {},
   "outputs": [
    {
     "name": "stdout",
     "output_type": "stream",
     "text": [
      "output: 09-07-1982\n"
     ]
    }
   ],
   "source": [
    "#Question 19\n",
    "string='1982-07-09'\n",
    "pattern='([0-9]{4})\\-([0-9]{2})\\-([0-9]{2})'\n",
    "output=re.sub(pattern,'\\\\3-\\\\2-\\\\1',string)\n",
    "print('output:',output)"
   ]
  },
  {
   "cell_type": "code",
   "execution_count": 28,
   "id": "0c75de62",
   "metadata": {},
   "outputs": [
    {
     "name": "stdout",
     "output_type": "stream",
     "text": [
      "output: ['01.12', '145.8', '3.01', '27.25', '0.25']\n"
     ]
    }
   ],
   "source": [
    "#Question 20\n",
    "string='01.12 0132.123 2.31875 145.8 3.01 27.25 0.25 '\n",
    "pattern='(\\d+\\.\\d{1,2})\\s'\n",
    "comp=re.compile(pattern)\n",
    "output=comp.findall(string)\n",
    "print('output:',output)"
   ]
  },
  {
   "cell_type": "code",
   "execution_count": 29,
   "id": "1925785d",
   "metadata": {},
   "outputs": [
    {
     "name": "stdout",
     "output_type": "stream",
     "text": [
      "1 ) 650 ,location: (14, 17)\n",
      "2 ) 700 ,location: (25, 28)\n"
     ]
    }
   ],
   "source": [
    "#Question 21\n",
    "string='I have scored 650 out of 700 marks.'\n",
    "pattern='\\d+'\n",
    "comp=re.compile(pattern)\n",
    "output=comp.finditer(string)\n",
    "n=1\n",
    "for nums in output:\n",
    "    print(n,')',(nums.group()),',location:',(nums.span()))\n",
    "    n=n+1"
   ]
  },
  {
   "cell_type": "code",
   "execution_count": 30,
   "id": "7154177c",
   "metadata": {},
   "outputs": [
    {
     "name": "stdout",
     "output_type": "stream",
     "text": [
      "Maximum mark is: 950\n",
      "Minimum mark is: 524\n"
     ]
    }
   ],
   "source": [
    "#Question 22\n",
    "string='My marks in each semester are:947,896,926,524,734,950,642'\n",
    "pattern='\\d+'\n",
    "numbers=re.findall(pattern,string)\n",
    "print('Maximum mark is:',max(numbers))\n",
    "print('Minimum mark is:',min(numbers))"
   ]
  },
  {
   "cell_type": "code",
   "execution_count": 31,
   "id": "76f6eca8",
   "metadata": {},
   "outputs": [
    {
     "name": "stdout",
     "output_type": "stream",
     "text": [
      "output: Regular Expression Is An Important Topic In Python\n"
     ]
    }
   ],
   "source": [
    "#Question 23\n",
    "string='RegularExpressionIsAnImportantTopicInPython'\n",
    "pattern='(\\w)([A-Z])'\n",
    "output=re.sub(pattern,'\\\\1 \\\\2',string)\n",
    "print('output:',output)"
   ]
  },
  {
   "cell_type": "code",
   "execution_count": 32,
   "id": "12013c62",
   "metadata": {},
   "outputs": [
    {
     "name": "stdout",
     "output_type": "stream",
     "text": [
      "1 Importance\n",
      "2 Regular\n",
      "3 Expressions\n",
      "4 Python\n"
     ]
    }
   ],
   "source": [
    "#Question 24\n",
    "string ='Importance of Regular Expressions in Python'\n",
    "pattern ='[A-Z]+[a-z]+'\n",
    "output=re.findall(pattern,string)\n",
    "i=1\n",
    "for text in output:\n",
    "    print(i, text)\n",
    "    i=i+1\n",
    "        "
   ]
  },
  {
   "cell_type": "code",
   "execution_count": 33,
   "id": "7cd3112f",
   "metadata": {},
   "outputs": [
    {
     "name": "stdout",
     "output_type": "stream",
     "text": [
      "Updated string: Hello hello world\n"
     ]
    }
   ],
   "source": [
    "#Question 25\n",
    "string='Hello hello world world'\n",
    "pattern='(\\w+)\\s(\\\\1)$'\n",
    "new_string=re.sub(pattern,'\\\\1',string)\n",
    "print('Updated string:',new_string)"
   ]
  },
  {
   "cell_type": "code",
   "execution_count": 34,
   "id": "360d4605",
   "metadata": {},
   "outputs": [
    {
     "name": "stdout",
     "output_type": "stream",
     "text": [
      "output: ABC_123_abc\n"
     ]
    }
   ],
   "source": [
    "#Question 26\n",
    "string='ABC_123_abc is an alphanumeric character.'\n",
    "pattern='[A-Z0-9a-z_]+'\n",
    "output=re.match(pattern,string)\n",
    "print('output:',output.group())"
   ]
  },
  {
   "cell_type": "code",
   "execution_count": 35,
   "id": "76a31919",
   "metadata": {},
   "outputs": [
    {
     "name": "stdout",
     "output_type": "stream",
     "text": [
      "output: ['#Doltiwal', '#xyzabc', '#Demonetization']\n"
     ]
    }
   ],
   "source": [
    "#Question 27\n",
    "string=\"\"\"RT@kapil_kausik:#Doltiwal I mean #xyzabc is \"hurt\" by #Demonetization as the same has rendered USELESS<ed><U+00A0><U+00BD><ed><U+00B1><U+0089> \"acquired fund\"No wo\"\"\"\n",
    "pattern='#[\\w]+'\n",
    "output=re.findall(pattern,string)\n",
    "print('output:',output)"
   ]
  },
  {
   "cell_type": "code",
   "execution_count": 36,
   "id": "1065c86f",
   "metadata": {},
   "outputs": [
    {
     "name": "stdout",
     "output_type": "stream",
     "text": [
      "output: @jags123456 barat bans on 28??<ed><ed>those who are protesting #demonetization are all different party leaders.\n"
     ]
    }
   ],
   "source": [
    "#Question 28\n",
    "string='@jags123456 barat bans on 28??<ed><U+00A0><U+00BD><ed><U+00B8><U+0082>those who are protesting #demonetization are all different party leaders.'\n",
    "pattern='(<\\w?\\W+\\w+>)'\n",
    "output=re.sub(pattern,'',string)\n",
    "print('output:',output)"
   ]
  },
  {
   "cell_type": "code",
   "execution_count": 37,
   "id": "5a78cdaf",
   "metadata": {},
   "outputs": [
    {
     "name": "stdout",
     "output_type": "stream",
     "text": [
      "Ron was born on 12-09-1992 and he was admitted to school 15-12-1999.\n",
      "['12-09-1992', '15-12-1999']\n"
     ]
    }
   ],
   "source": [
    "#Question 29\n",
    "file=open(r'question29.txt')\n",
    "for string in file:\n",
    "    print(string)\n",
    "pattern='[\\d{2}-\\d{2}-\\d{4}]+'\n",
    "output=re.findall(pattern,string)\n",
    "print(output)"
   ]
  },
  {
   "cell_type": "code",
   "execution_count": 38,
   "id": "b73f973e",
   "metadata": {},
   "outputs": [
    {
     "name": "stdout",
     "output_type": "stream",
     "text": [
      "output:  following example creates  arraylist  a capacity   elements.4 elements   added   arraylist   arraylist  trimmed accordingly.\n"
     ]
    }
   ],
   "source": [
    "#Question 30\n",
    "string='the following example creates an arraylist with a capacity of 50 elements.4 elements are then added to the arraylist and the arraylist is trimmed accordingly.'\n",
    "pattern=r'\\b\\w{2,4}\\b'\n",
    "comp=re.compile(pattern)\n",
    "output=comp.sub('',string)\n",
    "print('output:',output)"
   ]
  },
  {
   "cell_type": "code",
   "execution_count": null,
   "id": "c445763c",
   "metadata": {},
   "outputs": [],
   "source": []
  }
 ],
 "metadata": {
  "kernelspec": {
   "display_name": "Python 3 (ipykernel)",
   "language": "python",
   "name": "python3"
  },
  "language_info": {
   "codemirror_mode": {
    "name": "ipython",
    "version": 3
   },
   "file_extension": ".py",
   "mimetype": "text/x-python",
   "name": "python",
   "nbconvert_exporter": "python",
   "pygments_lexer": "ipython3",
   "version": "3.10.9"
  }
 },
 "nbformat": 4,
 "nbformat_minor": 5
}
